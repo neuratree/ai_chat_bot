{
 "cells": [
  {
   "cell_type": "code",
   "execution_count": 1,
   "metadata": {},
   "outputs": [],
   "source": [
    "#!pip install googletrans"
   ]
  },
  {
   "cell_type": "code",
   "execution_count": 2,
   "metadata": {},
   "outputs": [],
   "source": [
    "from googletrans import Translator"
   ]
  },
  {
   "cell_type": "markdown",
   "metadata": {},
   "source": [
    "###### Detecting the language specified in the text"
   ]
  },
  {
   "cell_type": "code",
   "execution_count": 3,
   "metadata": {},
   "outputs": [
    {
     "name": "stdout",
     "output_type": "stream",
     "text": [
      "Detected(lang=hu, confidence=1.0)\n",
      "Detected(lang=sk, confidence=1.0)\n"
     ]
    }
   ],
   "source": [
    "text1 = '''\n",
    "A Római Birodalom (latinul Imperium Romanum) az ókori Róma által létrehozott \n",
    "államalakulat volt a Földközi-tenger medencéjében\n",
    "'''\n",
    "\n",
    "text2 = '''\n",
    "Vysoké Tatry sú najvyššie pohorie na Slovensku a v Poľsku a sú zároveň jediným \n",
    "horstvom v týchto štátoch s alpským charakterom. \n",
    "'''\n",
    "\n",
    "translator = Translator()\n",
    "\n",
    "dt1 = translator.detect(text1)\n",
    "print(dt1)\n",
    "\n",
    "dt2 = translator.detect(text2)\n",
    "print(dt2)"
   ]
  },
  {
   "cell_type": "markdown",
   "metadata": {},
   "source": [
    "###### Translation of words with source language specified, similar implementation can be done be specifying dest. language"
   ]
  },
  {
   "cell_type": "code",
   "execution_count": 4,
   "metadata": {},
   "outputs": [
    {
     "name": "stdout",
     "output_type": "stream",
     "text": [
      "Slow\n"
     ]
    }
   ],
   "source": [
    "translated = translator.translate('dhire',src = 'hi')\n",
    "\n",
    "print(translated.text)"
   ]
  },
  {
   "cell_type": "markdown",
   "metadata": {},
   "source": [
    "###### Translation of multilingual basic sentence"
   ]
  },
  {
   "cell_type": "code",
   "execution_count": 5,
   "metadata": {},
   "outputs": [
    {
     "name": "stdout",
     "output_type": "stream",
     "text": [
      "bring some vegetables\n"
     ]
    }
   ],
   "source": [
    "translated = translator.translate('bring some सब्ज़ी')\n",
    "\n",
    "print(translated.text)"
   ]
  },
  {
   "cell_type": "code",
   "execution_count": null,
   "metadata": {},
   "outputs": [],
   "source": []
  }
 ],
 "metadata": {
  "kernelspec": {
   "display_name": "Python 3",
   "language": "python",
   "name": "python3"
  },
  "language_info": {
   "codemirror_mode": {
    "name": "ipython",
    "version": 3
   },
   "file_extension": ".py",
   "mimetype": "text/x-python",
   "name": "python",
   "nbconvert_exporter": "python",
   "pygments_lexer": "ipython3",
   "version": "3.7.3"
  }
 },
 "nbformat": 4,
 "nbformat_minor": 2
}
